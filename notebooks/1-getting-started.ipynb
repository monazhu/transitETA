{
 "cells": [
  {
   "cell_type": "markdown",
   "id": "6cbd4267-95f8-4776-9978-25b11ffee688",
   "metadata": {},
   "source": [
    "# Transit ETA"
   ]
  },
  {
   "cell_type": "markdown",
   "id": "0ff94082",
   "metadata": {},
   "source": [
    "## Import Libraries"
   ]
  },
  {
   "cell_type": "code",
   "execution_count": 14,
   "id": "85814ed6",
   "metadata": {},
   "outputs": [],
   "source": [
    "import requests as rq\n",
    "import zipfile\n",
    "import os\n",
    "\n",
    "import cred # API stored in separate .py file"
   ]
  },
  {
   "cell_type": "markdown",
   "id": "cfc4cc92-7a0f-4782-94cf-bceae49ada47",
   "metadata": {},
   "source": [
    "## Accessing GFTS via Translink API"
   ]
  },
  {
   "cell_type": "code",
   "execution_count": 13,
   "id": "e3a71969-277d-454c-b7db-a529dd0f4b08",
   "metadata": {},
   "outputs": [
    {
     "name": "stdout",
     "output_type": "stream",
     "text": [
      "Connected successfully!\n"
     ]
    }
   ],
   "source": [
    "url = f'https://gtfsapi.translink.ca/v3/gtfsrealtime?apikey={cred.API}'\n",
    "\n",
    "response = rq.get(url)\n",
    "\n",
    "# check connection\n",
    "if response.status_code == 200:\n",
    "    print(\"Connected successfully!\")\n",
    "else:\n",
    "    print(f\"Error: {response.status_code}\")"
   ]
  },
  {
   "cell_type": "markdown",
   "id": "6324cb9d",
   "metadata": {},
   "source": [
    "Download the data from Translink:"
   ]
  },
  {
   "cell_type": "code",
   "execution_count": 11,
   "id": "0767aaa2",
   "metadata": {},
   "outputs": [],
   "source": [
    "with open('../data/gtfs.zip', 'wb') as f:\n",
    "    f.write(response.content)"
   ]
  },
  {
   "cell_type": "markdown",
   "id": "ba2c3c02-97a8-479e-afad-8d8edfb5908b",
   "metadata": {},
   "source": [
    "## Building Database"
   ]
  },
  {
   "cell_type": "code",
   "execution_count": null,
   "id": "71d57d5d-4852-4397-816f-8e30658baa3c",
   "metadata": {},
   "outputs": [],
   "source": [
    "import psycopg2"
   ]
  },
  {
   "cell_type": "code",
   "execution_count": null,
   "id": "ad555f4a-db8f-4c6a-b232-7c30a9681cfa",
   "metadata": {},
   "outputs": [],
   "source": []
  },
  {
   "cell_type": "markdown",
   "id": "7e914d72-1dbc-47a0-9bf0-612735e9e930",
   "metadata": {},
   "source": []
  }
 ],
 "metadata": {
  "kernelspec": {
   "display_name": "transiteta",
   "language": "python",
   "name": "python3"
  },
  "language_info": {
   "codemirror_mode": {
    "name": "ipython",
    "version": 3
   },
   "file_extension": ".py",
   "mimetype": "text/x-python",
   "name": "python",
   "nbconvert_exporter": "python",
   "pygments_lexer": "ipython3",
   "version": "3.11.4"
  }
 },
 "nbformat": 4,
 "nbformat_minor": 5
}
